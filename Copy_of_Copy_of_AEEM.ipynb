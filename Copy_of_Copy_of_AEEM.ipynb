{
  "nbformat": 4,
  "nbformat_minor": 0,
  "metadata": {
    "colab": {
      "provenance": [],
      "include_colab_link": true
    },
    "kernelspec": {
      "name": "python3",
      "display_name": "Python 3"
    },
    "language_info": {
      "name": "python"
    }
  },
  "cells": [
    {
      "cell_type": "markdown",
      "metadata": {
        "id": "view-in-github",
        "colab_type": "text"
      },
      "source": [
        "<a href=\"https://colab.research.google.com/github/Sai3851/Data-driven-Defect-Prediction/blob/main/Copy_of_Copy_of_AEEM.ipynb\" target=\"_parent\"><img src=\"https://colab.research.google.com/assets/colab-badge.svg\" alt=\"Open In Colab\"/></a>"
      ]
    },
    {
      "cell_type": "code",
      "execution_count": null,
      "metadata": {
        "colab": {
          "base_uri": "https://localhost:8080/"
        },
        "id": "-QjtGaZPtAMO",
        "outputId": "26e5bae8-662f-4458-b4ac-a30d29839f39"
      },
      "outputs": [
        {
          "output_type": "stream",
          "name": "stdout",
          "text": [
            "Mounted at /content/drive\n"
          ]
        }
      ],
      "source": [
        "from google.colab import drive\n",
        "drive.mount('/content/drive')\n"
      ]
    },
    {
      "cell_type": "code",
      "source": [
        "!unzip '/content/drive/MyDrive/Defect Prediction Project/archive-AEEM.zip' -d '/content/drive/MyDrive/Defect_Prediction_Datasets/'\n"
      ],
      "metadata": {
        "colab": {
          "base_uri": "https://localhost:8080/"
        },
        "id": "YF9sfEU4uKAs",
        "outputId": "30abf86e-fac8-4593-a7f3-9d9ba0ccc1b8"
      },
      "execution_count": null,
      "outputs": [
        {
          "output_type": "stream",
          "name": "stdout",
          "text": [
            "Archive:  /content/drive/MyDrive/Defect Prediction Project/archive-AEEM.zip\n",
            "  inflating: /content/drive/MyDrive/Defect_Prediction_Datasets/EQ.csv  \n",
            "  inflating: /content/drive/MyDrive/Defect_Prediction_Datasets/JDT.csv  \n",
            "  inflating: /content/drive/MyDrive/Defect_Prediction_Datasets/LC.csv  \n",
            "  inflating: /content/drive/MyDrive/Defect_Prediction_Datasets/ML.csv  \n",
            "  inflating: /content/drive/MyDrive/Defect_Prediction_Datasets/PDE.csv  \n"
          ]
        }
      ]
    },
    {
      "cell_type": "code",
      "source": [
        "import pandas as pd\n",
        "\n",
        "# Loading each dataset\n",
        "eq_data = pd.read_csv('/content/drive/MyDrive/Defect_Prediction_Datasets/EQ.csv')\n",
        "jdt_data = pd.read_csv('/content/drive/MyDrive/Defect_Prediction_Datasets/JDT.csv')\n",
        "lc_data = pd.read_csv('/content/drive/MyDrive/Defect_Prediction_Datasets/LC.csv')\n",
        "ml_data = pd.read_csv('/content/drive/MyDrive/Defect_Prediction_Datasets/ML.csv')\n",
        "\n",
        "# Displaying the first few rows of each dataset to check structure\n",
        "print(\"EQ Data:\\n\", eq_data.head())\n",
        "print(\"JDT Data:\\n\", jdt_data.head())\n",
        "print(\"LC Data:\\n\", lc_data.head())\n",
        "print(\"ML Data:\\n\", ml_data.head())\n"
      ],
      "metadata": {
        "colab": {
          "base_uri": "https://localhost:8080/"
        },
        "id": "MNSq9OMLualY",
        "outputId": "47328bb1-f5b2-4682-a155-52ea7ffafdc1"
      },
      "execution_count": null,
      "outputs": [
        {
          "output_type": "stream",
          "name": "stdout",
          "text": [
            "EQ Data:\n",
            "    ck_oo_numberOfPrivateMethods  LDHH_lcom  LDHH_fanIn  \\\n",
            "0                             3   0.002547    0.002555   \n",
            "1                            37   0.008643    0.004756   \n",
            "2                             3   0.001479    0.009143   \n",
            "3                            10   0.005642    0.005395   \n",
            "4                             1   0.001350    0.000000   \n",
            "\n",
            "   numberOfNonTrivialBugsFoundUntil:  WCHU_numberOfPublicAttributes  \\\n",
            "0                                  4                           0.00   \n",
            "1                                 71                           0.00   \n",
            "2                                  5                           1.01   \n",
            "3                                 38                           0.00   \n",
            "4                                  1                           1.01   \n",
            "\n",
            "   WCHU_numberOfAttributes  CvsWEntropy  LDHH_numberOfPublicMethods  \\\n",
            "0                     3.04     0.393707                    0.003049   \n",
            "1                    14.37     2.093750                    0.001481   \n",
            "2                     3.08     0.484675                    0.000000   \n",
            "3                     1.06     0.811584                    0.000876   \n",
            "4                     1.01     0.031940                    0.000876   \n",
            "\n",
            "   WCHU_fanIn  LDHH_numberOfPrivateAttributes  ...  LDHH_fanOut  \\\n",
            "0        1.01                        0.004091  ...     0.005627   \n",
            "1        2.02                        0.015332  ...     0.018761   \n",
            "2        6.17                        0.001953  ...     0.003117   \n",
            "3        6.07                        0.000739  ...     0.020376   \n",
            "4        0.00                        0.000000  ...     0.000566   \n",
            "\n",
            "   LDHH_numberOfMethodsInherited  LDHH_rfc  ck_oo_numberOfMethodsInherited  \\\n",
            "0                       0.000000  0.004406                               8   \n",
            "1                       0.001486  0.060301                               7   \n",
            "2                       0.001486  0.002325                               7   \n",
            "3                       0.002338  0.030608                              17   \n",
            "4                       0.003017  0.001492                              22   \n",
            "\n",
            "   ck_oo_numberOfPublicMethods  LDHH_cbo  WCHU_numberOfLinesOfCode  \\\n",
            "0                            8  0.008431                      3.50   \n",
            "1                            7  0.021602                     43.12   \n",
            "2                            2  0.011859                      4.68   \n",
            "3                           10  0.020478                     24.06   \n",
            "4                            7  0.000652                      2.13   \n",
            "\n",
            "   CvsExpEntropy  LDHH_numberOfMethods  class  \n",
            "0       0.103594              0.003611  buggy  \n",
            "1       0.328692              0.009906  buggy  \n",
            "2       0.125841              0.001655  clean  \n",
            "3       0.170416              0.007000  buggy  \n",
            "4       0.055912              0.001572  buggy  \n",
            "\n",
            "[5 rows x 62 columns]\n",
            "JDT Data:\n",
            "    ck_oo_numberOfPrivateMethods  LDHH_lcom  LDHH_fanIn  \\\n",
            "0                             0   0.000934    0.000000   \n",
            "1                             0   0.000741    0.000000   \n",
            "2                             0   0.000000    0.000000   \n",
            "3                             0   0.001529    0.015913   \n",
            "4                             0   0.000000    0.000000   \n",
            "\n",
            "   numberOfNonTrivialBugsFoundUntil:  WCHU_numberOfPublicAttributes  \\\n",
            "0                                  4                           0.00   \n",
            "1                                  3                           0.00   \n",
            "2                                  4                           0.00   \n",
            "3                                 35                           0.00   \n",
            "4                                  2                           1.01   \n",
            "\n",
            "   WCHU_numberOfAttributes  CvsWEntropy  LDHH_numberOfPublicMethods  \\\n",
            "0                     0.00     0.004517                     0.00000   \n",
            "1                     0.00     0.014817                     0.00091   \n",
            "2                     1.01     0.024575                     0.00000   \n",
            "3                     0.00     0.347495                     0.00165   \n",
            "4                     1.01     0.012120                     0.00000   \n",
            "\n",
            "   WCHU_fanIn  LDHH_numberOfPrivateAttributes  ...  LDHH_fanOut  \\\n",
            "0        0.00                             0.0  ...     0.000993   \n",
            "1        0.00                             0.0  ...     0.000889   \n",
            "2        0.00                             0.0  ...     0.002827   \n",
            "3        2.03                             0.0  ...     0.010602   \n",
            "4        0.00                             0.0  ...     0.005223   \n",
            "\n",
            "   LDHH_numberOfMethodsInherited  LDHH_rfc  ck_oo_numberOfMethodsInherited  \\\n",
            "0                       0.025009  0.000969                             127   \n",
            "1                       0.001487  0.002523                               8   \n",
            "2                       0.021650  0.003656                              45   \n",
            "3                       0.012864  0.060975                              94   \n",
            "4                       0.023725  0.006207                              73   \n",
            "\n",
            "   ck_oo_numberOfPublicMethods  LDHH_cbo  WCHU_numberOfLinesOfCode  \\\n",
            "0                            4  0.001007                      1.03   \n",
            "1                            9  0.000967                      2.06   \n",
            "2                            1  0.002917                      1.20   \n",
            "3                           21  0.027947                     24.14   \n",
            "4                            0  0.007285                      2.15   \n",
            "\n",
            "   CvsExpEntropy  LDHH_numberOfMethods  class  \n",
            "0       0.198199              0.001036  clean  \n",
            "1       0.239334              0.000923  clean  \n",
            "2       0.187460              0.000000  clean  \n",
            "3       0.392389              0.001669  buggy  \n",
            "4       0.047726              0.000000  clean  \n",
            "\n",
            "[5 rows x 62 columns]\n",
            "LC Data:\n",
            "    ck_oo_numberOfPrivateMethods  LDHH_lcom  LDHH_fanIn  \\\n",
            "0                             0   0.000000     0.01525   \n",
            "1                             0   0.000000     0.00000   \n",
            "2                             7   0.002984     0.00000   \n",
            "3                            12   0.000000     0.00000   \n",
            "4                             0   0.000000     0.00000   \n",
            "\n",
            "   numberOfNonTrivialBugsFoundUntil:  WCHU_numberOfPublicAttributes  \\\n",
            "0                                  2                            0.0   \n",
            "1                                  1                            0.0   \n",
            "2                                  4                            0.0   \n",
            "3                                  1                            0.0   \n",
            "4                                  1                            0.0   \n",
            "\n",
            "   WCHU_numberOfAttributes  CvsWEntropy  LDHH_numberOfPublicMethods  \\\n",
            "0                     0.00     0.033871                    0.002200   \n",
            "1                     0.00     0.000518                    0.000000   \n",
            "2                     1.01     0.318565                    0.003137   \n",
            "3                     0.00     0.000833                    0.000000   \n",
            "4                     0.00     0.076471                    0.000000   \n",
            "\n",
            "   WCHU_fanIn  LDHH_numberOfPrivateAttributes  ...  LDHH_fanOut  \\\n",
            "0        4.04                        0.000000  ...     0.000000   \n",
            "1        0.00                        0.000000  ...     0.000000   \n",
            "2        0.00                        0.002748  ...     0.020279   \n",
            "3        0.00                        0.000000  ...     0.000000   \n",
            "4        0.00                        0.000000  ...     0.000000   \n",
            "\n",
            "   LDHH_numberOfMethodsInherited  LDHH_rfc  ck_oo_numberOfMethodsInherited  \\\n",
            "0                       0.010398  0.000000                              18   \n",
            "1                       0.000000  0.000000                               9   \n",
            "2                       0.005149  0.002921                               9   \n",
            "3                       0.000000  0.000000                              35   \n",
            "4                       0.000000  0.000000                              15   \n",
            "\n",
            "   ck_oo_numberOfPublicMethods  LDHH_cbo  WCHU_numberOfLinesOfCode  \\\n",
            "0                            3  0.015814                      0.00   \n",
            "1                            0  0.000000                      0.00   \n",
            "2                           12  0.015089                      1.16   \n",
            "3                            1  0.000000                      0.00   \n",
            "4                            6  0.000000                      0.00   \n",
            "\n",
            "   CvsExpEntropy  LDHH_numberOfMethods  class  \n",
            "0       0.016969              0.000000  clean  \n",
            "1       0.045793              0.000000  clean  \n",
            "2       0.069272              0.003155  clean  \n",
            "3       0.099579              0.000000  clean  \n",
            "4       0.067865              0.000000  clean  \n",
            "\n",
            "[5 rows x 62 columns]\n",
            "ML Data:\n",
            "    ck_oo_numberOfPrivateMethods  LDHH_lcom  LDHH_fanIn  \\\n",
            "0                             1   0.019228    0.024845   \n",
            "1                             0   0.000000    0.000000   \n",
            "2                             1   0.000000    0.000000   \n",
            "3                             0   0.000734    0.056522   \n",
            "4                             0   0.000000    0.010560   \n",
            "\n",
            "   numberOfNonTrivialBugsFoundUntil:  WCHU_numberOfPublicAttributes  \\\n",
            "0                                  4                            0.0   \n",
            "1                                 20                            0.0   \n",
            "2                                  0                            0.0   \n",
            "3                                  6                            0.0   \n",
            "4                                  5                            0.0   \n",
            "\n",
            "   WCHU_numberOfAttributes  CvsWEntropy  LDHH_numberOfPublicMethods  \\\n",
            "0                     1.01     0.002216                    0.018552   \n",
            "1                     0.00     0.278898                    0.000000   \n",
            "2                     0.00     0.000000                    0.000000   \n",
            "3                     1.01     0.013173                    0.001171   \n",
            "4                     0.00     0.042989                    0.000000   \n",
            "\n",
            "   WCHU_fanIn  LDHH_numberOfPrivateAttributes  ...  LDHH_fanOut  \\\n",
            "0        1.02                        0.017874  ...     0.000000   \n",
            "1        0.00                        0.000000  ...     0.013098   \n",
            "2        0.00                        0.000000  ...     0.000000   \n",
            "3        8.10                        0.001505  ...     0.000000   \n",
            "4        5.11                        0.000000  ...     0.022584   \n",
            "\n",
            "   LDHH_numberOfMethodsInherited  LDHH_rfc  ck_oo_numberOfMethodsInherited  \\\n",
            "0                       0.002801  0.020688                              36   \n",
            "1                       0.009791  0.006229                               9   \n",
            "2                       0.000000  0.000000                               9   \n",
            "3                       0.009791  0.000900                              18   \n",
            "4                       0.016354  0.002214                              31   \n",
            "\n",
            "   ck_oo_numberOfPublicMethods  LDHH_cbo  WCHU_numberOfLinesOfCode  \\\n",
            "0                            6  0.023730                      1.15   \n",
            "1                            1  0.014303                      3.13   \n",
            "2                            1  0.000000                      0.00   \n",
            "3                           14  0.055485                      3.10   \n",
            "4                           12  0.032393                      2.04   \n",
            "\n",
            "   CvsExpEntropy  LDHH_numberOfMethods  class  \n",
            "0       0.116244              0.019133  clean  \n",
            "1       0.254718              0.000000  buggy  \n",
            "2       0.000000              0.000000  buggy  \n",
            "3       0.347682              0.001253  clean  \n",
            "4       0.262198              0.000000  clean  \n",
            "\n",
            "[5 rows x 62 columns]\n"
          ]
        }
      ]
    },
    {
      "cell_type": "code",
      "source": [
        "# Applying fillna() only to numeric columns\n",
        "eq_data.fillna(eq_data.select_dtypes(include=['float64', 'int64']).mean(), inplace=True)\n",
        "jdt_data.fillna(jdt_data.select_dtypes(include=['float64', 'int64']).mean(), inplace=True)\n",
        "lc_data.fillna(lc_data.select_dtypes(include=['float64', 'int64']).mean(), inplace=True)\n",
        "ml_data.fillna(ml_data.select_dtypes(include=['float64', 'int64']).mean(), inplace=True)\n"
      ],
      "metadata": {
        "id": "4MC4TVssusaJ"
      },
      "execution_count": null,
      "outputs": []
    },
    {
      "cell_type": "code",
      "source": [
        "from sklearn.preprocessing import StandardScaler\n",
        "\n",
        "# Combining EQ and JDT for training\n",
        "train_data = pd.concat([eq_data, jdt_data], ignore_index=True)\n",
        "test_data = pd.concat([lc_data, ml_data], ignore_index=True)\n",
        "\n",
        "# Identifying numeric columns\n",
        "numeric_columns = train_data.select_dtypes(include=['float64', 'int64']).columns\n",
        "\n",
        "# Initializing scaler\n",
        "scaler = StandardScaler()\n",
        "train_data[numeric_columns] = scaler.fit_transform(train_data[numeric_columns])\n",
        "test_data[numeric_columns] = scaler.transform(test_data[numeric_columns])  # Use the same scaler for test data\n"
      ],
      "metadata": {
        "id": "2Lq8T1UfufUp"
      },
      "execution_count": null,
      "outputs": []
    },
    {
      "cell_type": "code",
      "source": [
        "train_data = pd.get_dummies(train_data, drop_first=True)\n",
        "test_data = pd.get_dummies(test_data, drop_first=True)\n",
        "\n",
        "# Ensure both train and test data have the same columns\n",
        "test_data = test_data.reindex(columns=train_data.columns, fill_value=0)\n"
      ],
      "metadata": {
        "id": "6xK3yDBNvjvM"
      },
      "execution_count": null,
      "outputs": []
    },
    {
      "cell_type": "code",
      "source": [
        "X_train = train_data.drop('class_clean', axis=1)  # Replace 'class' with the actual target column\n",
        "y_train = train_data['class_clean']\n",
        "\n",
        "X_test = test_data.drop('class_clean', axis=1)\n",
        "y_test = test_data['class_clean']\n"
      ],
      "metadata": {
        "id": "AxfLDYchvxEX"
      },
      "execution_count": null,
      "outputs": []
    },
    {
      "cell_type": "code",
      "source": [
        "from imblearn.over_sampling import SMOTE\n",
        "\n",
        "smote = SMOTE()\n",
        "X_train_resampled, y_train_resampled = smote.fit_resample(X_train, y_train)\n"
      ],
      "metadata": {
        "id": "Nqzb7vZCx0Fv"
      },
      "execution_count": null,
      "outputs": []
    },
    {
      "cell_type": "code",
      "source": [
        "from tensorflow.keras import layers, models\n",
        "\n",
        "encoder = models.Sequential([\n",
        "    layers.Dense(64, activation='relu', input_shape=(X_train_resampled.shape[1],)),\n",
        "    layers.Dense(32, activation='relu'),\n",
        "    layers.Dense(16, activation='relu'),  # Latent space\n",
        "    layers.Dense(1, activation='sigmoid')  # Output for binary classification\n",
        "])\n",
        "\n",
        "encoder.compile(optimizer='adam', loss='binary_crossentropy', metrics=['accuracy'])\n"
      ],
      "metadata": {
        "colab": {
          "base_uri": "https://localhost:8080/"
        },
        "id": "qW7dBY0Rx-a_",
        "outputId": "3ddd1ab4-668d-4435-9408-7e6b32b3b727"
      },
      "execution_count": null,
      "outputs": [
        {
          "output_type": "stream",
          "name": "stderr",
          "text": [
            "/usr/local/lib/python3.10/dist-packages/keras/src/layers/core/dense.py:87: UserWarning: Do not pass an `input_shape`/`input_dim` argument to a layer. When using Sequential models, prefer using an `Input(shape)` object as the first layer in the model instead.\n",
            "  super().__init__(activity_regularizer=activity_regularizer, **kwargs)\n"
          ]
        }
      ]
    },
    {
      "cell_type": "code",
      "source": [
        "history = encoder.fit(X_train_resampled, y_train_resampled, epochs=20, validation_data=(X_test, y_test))\n"
      ],
      "metadata": {
        "colab": {
          "base_uri": "https://localhost:8080/"
        },
        "id": "kz0M1I_hyK4S",
        "outputId": "ed2a2568-5257-4619-d2fa-74efdbc420f2"
      },
      "execution_count": null,
      "outputs": [
        {
          "output_type": "stream",
          "name": "stdout",
          "text": [
            "Epoch 1/20\n",
            "\u001b[1m62/62\u001b[0m \u001b[32m━━━━━━━━━━━━━━━━━━━━\u001b[0m\u001b[37m\u001b[0m \u001b[1m3s\u001b[0m 10ms/step - accuracy: 0.6120 - loss: 0.6426 - val_accuracy: 0.8018 - val_loss: 0.5358\n",
            "Epoch 2/20\n",
            "\u001b[1m62/62\u001b[0m \u001b[32m━━━━━━━━━━━━━━━━━━━━\u001b[0m\u001b[37m\u001b[0m \u001b[1m1s\u001b[0m 8ms/step - accuracy: 0.7501 - loss: 0.4947 - val_accuracy: 0.7697 - val_loss: 0.5910\n",
            "Epoch 3/20\n",
            "\u001b[1m62/62\u001b[0m \u001b[32m━━━━━━━━━━━━━━━━━━━━\u001b[0m\u001b[37m\u001b[0m \u001b[1m1s\u001b[0m 4ms/step - accuracy: 0.8043 - loss: 0.4344 - val_accuracy: 0.7705 - val_loss: 0.6233\n",
            "Epoch 4/20\n",
            "\u001b[1m62/62\u001b[0m \u001b[32m━━━━━━━━━━━━━━━━━━━━\u001b[0m\u001b[37m\u001b[0m \u001b[1m1s\u001b[0m 4ms/step - accuracy: 0.8325 - loss: 0.3995 - val_accuracy: 0.7403 - val_loss: 0.7278\n",
            "Epoch 5/20\n",
            "\u001b[1m62/62\u001b[0m \u001b[32m━━━━━━━━━━━━━━━━━━━━\u001b[0m\u001b[37m\u001b[0m \u001b[1m0s\u001b[0m 4ms/step - accuracy: 0.8503 - loss: 0.3646 - val_accuracy: 0.6941 - val_loss: 0.8265\n",
            "Epoch 6/20\n",
            "\u001b[1m62/62\u001b[0m \u001b[32m━━━━━━━━━━━━━━━━━━━━\u001b[0m\u001b[37m\u001b[0m \u001b[1m0s\u001b[0m 6ms/step - accuracy: 0.8509 - loss: 0.3540 - val_accuracy: 0.7908 - val_loss: 0.8129\n",
            "Epoch 7/20\n",
            "\u001b[1m62/62\u001b[0m \u001b[32m━━━━━━━━━━━━━━━━━━━━\u001b[0m\u001b[37m\u001b[0m \u001b[1m1s\u001b[0m 6ms/step - accuracy: 0.8735 - loss: 0.3146 - val_accuracy: 0.7556 - val_loss: 0.8752\n",
            "Epoch 8/20\n",
            "\u001b[1m62/62\u001b[0m \u001b[32m━━━━━━━━━━━━━━━━━━━━\u001b[0m\u001b[37m\u001b[0m \u001b[1m1s\u001b[0m 14ms/step - accuracy: 0.8972 - loss: 0.2639 - val_accuracy: 0.7493 - val_loss: 0.9543\n",
            "Epoch 9/20\n",
            "\u001b[1m62/62\u001b[0m \u001b[32m━━━━━━━━━━━━━━━━━━━━\u001b[0m\u001b[37m\u001b[0m \u001b[1m1s\u001b[0m 10ms/step - accuracy: 0.8912 - loss: 0.2685 - val_accuracy: 0.7673 - val_loss: 0.9931\n",
            "Epoch 10/20\n",
            "\u001b[1m62/62\u001b[0m \u001b[32m━━━━━━━━━━━━━━━━━━━━\u001b[0m\u001b[37m\u001b[0m \u001b[1m1s\u001b[0m 11ms/step - accuracy: 0.9124 - loss: 0.2430 - val_accuracy: 0.7959 - val_loss: 1.0621\n",
            "Epoch 11/20\n",
            "\u001b[1m62/62\u001b[0m \u001b[32m━━━━━━━━━━━━━━━━━━━━\u001b[0m\u001b[37m\u001b[0m \u001b[1m1s\u001b[0m 10ms/step - accuracy: 0.9312 - loss: 0.2051 - val_accuracy: 0.7646 - val_loss: 1.0840\n",
            "Epoch 12/20\n",
            "\u001b[1m62/62\u001b[0m \u001b[32m━━━━━━━━━━━━━━━━━━━━\u001b[0m\u001b[37m\u001b[0m \u001b[1m1s\u001b[0m 6ms/step - accuracy: 0.9251 - loss: 0.2062 - val_accuracy: 0.8018 - val_loss: 1.2024\n",
            "Epoch 13/20\n",
            "\u001b[1m62/62\u001b[0m \u001b[32m━━━━━━━━━━━━━━━━━━━━\u001b[0m\u001b[37m\u001b[0m \u001b[1m0s\u001b[0m 6ms/step - accuracy: 0.9286 - loss: 0.1916 - val_accuracy: 0.7438 - val_loss: 1.3674\n",
            "Epoch 14/20\n",
            "\u001b[1m62/62\u001b[0m \u001b[32m━━━━━━━━━━━━━━━━━━━━\u001b[0m\u001b[37m\u001b[0m \u001b[1m1s\u001b[0m 6ms/step - accuracy: 0.9397 - loss: 0.1814 - val_accuracy: 0.7936 - val_loss: 1.3561\n",
            "Epoch 15/20\n",
            "\u001b[1m62/62\u001b[0m \u001b[32m━━━━━━━━━━━━━━━━━━━━\u001b[0m\u001b[37m\u001b[0m \u001b[1m1s\u001b[0m 9ms/step - accuracy: 0.9316 - loss: 0.1857 - val_accuracy: 0.7916 - val_loss: 1.4720\n",
            "Epoch 16/20\n",
            "\u001b[1m62/62\u001b[0m \u001b[32m━━━━━━━━━━━━━━━━━━━━\u001b[0m\u001b[37m\u001b[0m \u001b[1m0s\u001b[0m 6ms/step - accuracy: 0.9432 - loss: 0.1603 - val_accuracy: 0.7763 - val_loss: 1.5186\n",
            "Epoch 17/20\n",
            "\u001b[1m62/62\u001b[0m \u001b[32m━━━━━━━━━━━━━━━━━━━━\u001b[0m\u001b[37m\u001b[0m \u001b[1m1s\u001b[0m 8ms/step - accuracy: 0.9318 - loss: 0.1637 - val_accuracy: 0.7477 - val_loss: 1.6138\n",
            "Epoch 18/20\n",
            "\u001b[1m62/62\u001b[0m \u001b[32m━━━━━━━━━━━━━━━━━━━━\u001b[0m\u001b[37m\u001b[0m \u001b[1m1s\u001b[0m 9ms/step - accuracy: 0.9473 - loss: 0.1469 - val_accuracy: 0.7877 - val_loss: 1.7004\n",
            "Epoch 19/20\n",
            "\u001b[1m62/62\u001b[0m \u001b[32m━━━━━━━━━━━━━━━━━━━━\u001b[0m\u001b[37m\u001b[0m \u001b[1m0s\u001b[0m 5ms/step - accuracy: 0.9543 - loss: 0.1387 - val_accuracy: 0.8077 - val_loss: 1.7683\n",
            "Epoch 20/20\n",
            "\u001b[1m62/62\u001b[0m \u001b[32m━━━━━━━━━━━━━━━━━━━━\u001b[0m\u001b[37m\u001b[0m \u001b[1m1s\u001b[0m 5ms/step - accuracy: 0.9573 - loss: 0.1360 - val_accuracy: 0.7329 - val_loss: 1.9830\n"
          ]
        }
      ]
    },
    {
      "cell_type": "code",
      "source": [
        "test_loss, test_accuracy = encoder.evaluate(X_test, y_test)\n",
        "print(f\"Test Accuracy: {test_accuracy:.4f}\")\n"
      ],
      "metadata": {
        "colab": {
          "base_uri": "https://localhost:8080/"
        },
        "id": "XXXMwmzoyWWo",
        "outputId": "b4954032-100d-4202-9190-6bd1ccd0b49f"
      },
      "execution_count": null,
      "outputs": [
        {
          "output_type": "stream",
          "name": "stdout",
          "text": [
            "\u001b[1m80/80\u001b[0m \u001b[32m━━━━━━━━━━━━━━━━━━━━\u001b[0m\u001b[37m\u001b[0m \u001b[1m0s\u001b[0m 2ms/step - accuracy: 0.6341 - loss: 1.6663\n",
            "Test Accuracy: 0.7329\n"
          ]
        }
      ]
    },
    {
      "cell_type": "code",
      "source": [
        "from sklearn.metrics import classification_report, roc_auc_score\n",
        "\n",
        "y_pred = (encoder.predict(X_test) > 0.5).astype(int)\n",
        "print(classification_report(y_test, y_pred))\n",
        "print(\"AUC:\", roc_auc_score(y_test, y_pred))\n"
      ],
      "metadata": {
        "colab": {
          "base_uri": "https://localhost:8080/"
        },
        "id": "LbTKZZrcycyH",
        "outputId": "4716169c-9412-441f-ffc2-fbc82223d635"
      },
      "execution_count": null,
      "outputs": [
        {
          "output_type": "stream",
          "name": "stdout",
          "text": [
            "\u001b[1m80/80\u001b[0m \u001b[32m━━━━━━━━━━━━━━━━━━━━\u001b[0m\u001b[37m\u001b[0m \u001b[1m0s\u001b[0m 3ms/step\n",
            "              precision    recall  f1-score   support\n",
            "\n",
            "       False       0.13      0.22      0.16       309\n",
            "        True       0.88      0.80      0.84      2244\n",
            "\n",
            "    accuracy                           0.73      2553\n",
            "   macro avg       0.51      0.51      0.50      2553\n",
            "weighted avg       0.79      0.73      0.76      2553\n",
            "\n",
            "AUC: 0.5103750237959261\n"
          ]
        }
      ]
    },
    {
      "cell_type": "code",
      "source": [
        "import tensorflow as tf\n",
        "\n",
        "def rbf_kernel(x, y, gamma=1.0):\n",
        "    # Compute the RBF kernel between x and y\n",
        "    xx = tf.expand_dims(x, 1)\n",
        "    yy = tf.expand_dims(y, 0)\n",
        "    distances = tf.reduce_sum((xx - yy) ** 2, axis=-1)\n",
        "    return tf.exp(-gamma * distances)\n",
        "\n",
        "def compute_mmd_loss(source_features, target_features, gamma=1.0):\n",
        "    # Calculate MMD loss\n",
        "    source_kernel = rbf_kernel(source_features, source_features, gamma)\n",
        "    target_kernel = rbf_kernel(target_features, target_features, gamma)\n",
        "    cross_kernel = rbf_kernel(source_features, target_features, gamma)\n",
        "\n",
        "    mmd = tf.reduce_mean(source_kernel) + tf.reduce_mean(target_kernel) - 2 * tf.reduce_mean(cross_kernel)\n",
        "    return mmd\n"
      ],
      "metadata": {
        "id": "ywoTRW7qzt5C"
      },
      "execution_count": null,
      "outputs": []
    },
    {
      "cell_type": "code",
      "source": [
        "# Placeholder for source and target data loading (train and test datasets)\n",
        "source_data = X_train_resampled  # Training data\n",
        "target_data = X_test  # Testing data\n",
        "\n",
        "# Training function with MMD integration\n",
        "def train_with_mmd(encoder, source_data, y_source, target_data, epochs=20, gamma=1.0):\n",
        "    optimizer = tf.keras.optimizers.Adam()\n",
        "\n",
        "    for epoch in range(epochs):\n",
        "        with tf.GradientTape() as tape:\n",
        "            # Forward pass\n",
        "            source_features = encoder(source_data, training=True)\n",
        "            target_features = encoder(target_data, training=True)\n",
        "\n",
        "            # Compute binary cross-entropy loss\n",
        "            predictions = encoder(source_data)\n",
        "            y_source = tf.reshape(y_source, (-1, 1))\n",
        "            classification_loss = tf.keras.losses.binary_crossentropy(y_source, predictions)\n",
        "\n",
        "            # Compute MMD loss\n",
        "            mmd_loss = compute_mmd_loss(source_features, target_features, gamma=gamma)\n",
        "\n",
        "            # Combine losses\n",
        "            total_loss = tf.reduce_mean(classification_loss) + mmd_loss\n",
        "\n",
        "        # Backpropagation\n",
        "        gradients = tape.gradient(total_loss, encoder.trainable_variables)\n",
        "        optimizer.apply_gradients(zip(gradients, encoder.trainable_variables))\n",
        "\n",
        "        # Print progress\n",
        "        print(f\"Epoch {epoch+1}/{epochs}, Total Loss: {total_loss.numpy()}, MMD Loss: {mmd_loss.numpy()}\")\n",
        "\n",
        "# Run training with MMD\n",
        "train_with_mmd(encoder, X_train_resampled, y_train_resampled, X_test)\n"
      ],
      "metadata": {
        "colab": {
          "base_uri": "https://localhost:8080/"
        },
        "id": "XN1S8IfVzwF-",
        "outputId": "f3ef43ee-195f-4fd4-d538-e43180f8916a"
      },
      "execution_count": null,
      "outputs": [
        {
          "output_type": "stream",
          "name": "stdout",
          "text": [
            "Epoch 1/20, Total Loss: 0.27712583541870117, MMD Loss: 0.14350998401641846\n",
            "Epoch 2/20, Total Loss: 0.25131887197494507, MMD Loss: 0.14332127571105957\n",
            "Epoch 3/20, Total Loss: 0.25179973244667053, MMD Loss: 0.13374876976013184\n",
            "Epoch 4/20, Total Loss: 0.24138525128364563, MMD Loss: 0.12337684631347656\n",
            "Epoch 5/20, Total Loss: 0.2251759022474289, MMD Loss: 0.11150825023651123\n",
            "Epoch 6/20, Total Loss: 0.21316802501678467, MMD Loss: 0.09875738620758057\n",
            "Epoch 7/20, Total Loss: 0.20886625349521637, MMD Loss: 0.08652091026306152\n",
            "Epoch 8/20, Total Loss: 0.20660610496997833, MMD Loss: 0.077628493309021\n",
            "Epoch 9/20, Total Loss: 0.19844381511211395, MMD Loss: 0.07114219665527344\n",
            "Epoch 10/20, Total Loss: 0.18867594003677368, MMD Loss: 0.06667006015777588\n",
            "Epoch 11/20, Total Loss: 0.1826220452785492, MMD Loss: 0.06353569030761719\n",
            "Epoch 12/20, Total Loss: 0.17954254150390625, MMD Loss: 0.05992698669433594\n",
            "Epoch 13/20, Total Loss: 0.17597109079360962, MMD Loss: 0.05478525161743164\n",
            "Epoch 14/20, Total Loss: 0.17050379514694214, MMD Loss: 0.0486835241317749\n",
            "Epoch 15/20, Total Loss: 0.16326341032981873, MMD Loss: 0.0415118932723999\n",
            "Epoch 16/20, Total Loss: 0.15689104795455933, MMD Loss: 0.03431236743927002\n",
            "Epoch 17/20, Total Loss: 0.15226788818836212, MMD Loss: 0.027109265327453613\n",
            "Epoch 18/20, Total Loss: 0.1495261937379837, MMD Loss: 0.021581649780273438\n",
            "Epoch 19/20, Total Loss: 0.14601147174835205, MMD Loss: 0.01750802993774414\n",
            "Epoch 20/20, Total Loss: 0.14112117886543274, MMD Loss: 0.014381885528564453\n"
          ]
        }
      ]
    },
    {
      "cell_type": "code",
      "source": [
        "from sklearn.metrics import classification_report, roc_auc_score\n",
        "\n",
        "# Make predictions on the test data\n",
        "y_pred = (encoder.predict(X_test) > 0.5).astype(int)  # Convert predictions to binary values\n",
        "\n",
        "# Evaluate accuracy and loss on the test set\n",
        "test_loss, test_accuracy = encoder.evaluate(X_test, y_test)\n",
        "print(f\"Test Accuracy: {test_accuracy:.4f}\")\n",
        "\n",
        "# Print detailed classification metrics\n",
        "print(classification_report(y_test, y_pred))\n",
        "\n",
        "# Calculate and display AUC\n",
        "auc_score = roc_auc_score(y_test, y_pred)\n",
        "print(\"AUC:\", auc_score)\n"
      ],
      "metadata": {
        "colab": {
          "base_uri": "https://localhost:8080/"
        },
        "id": "UPwxDg4o1Qwn",
        "outputId": "7f25e3e5-8a97-40e5-a85e-62c86b00b066"
      },
      "execution_count": null,
      "outputs": [
        {
          "output_type": "stream",
          "name": "stdout",
          "text": [
            "\u001b[1m80/80\u001b[0m \u001b[32m━━━━━━━━━━━━━━━━━━━━\u001b[0m\u001b[37m\u001b[0m \u001b[1m0s\u001b[0m 2ms/step\n",
            "\u001b[1m80/80\u001b[0m \u001b[32m━━━━━━━━━━━━━━━━━━━━\u001b[0m\u001b[37m\u001b[0m \u001b[1m0s\u001b[0m 2ms/step - accuracy: 0.5060 - loss: 2.7977\n",
            "Test Accuracy: 0.6048\n",
            "              precision    recall  f1-score   support\n",
            "\n",
            "       False       0.17      0.56      0.26       309\n",
            "        True       0.91      0.61      0.73      2244\n",
            "\n",
            "    accuracy                           0.60      2553\n",
            "   macro avg       0.54      0.59      0.49      2553\n",
            "weighted avg       0.82      0.60      0.67      2553\n",
            "\n",
            "AUC: 0.585416558503366\n"
          ]
        }
      ]
    }
  ]
}